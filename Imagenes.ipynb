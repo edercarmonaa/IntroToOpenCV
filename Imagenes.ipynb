{
  "nbformat": 4,
  "nbformat_minor": 0,
  "metadata": {
    "colab": {
      "private_outputs": true,
      "provenance": [],
      "authorship_tag": "ABX9TyPiguWlp9OmKXHCQ6j/w68c",
      "include_colab_link": true
    },
    "kernelspec": {
      "name": "python3",
      "display_name": "Python 3"
    },
    "language_info": {
      "name": "python"
    }
  },
  "cells": [
    {
      "cell_type": "markdown",
      "metadata": {
        "id": "view-in-github",
        "colab_type": "text"
      },
      "source": [
        "<a href=\"https://colab.research.google.com/github/edercarmonaa/IntroToOpenCV/blob/main/Imagenes.ipynb\" target=\"_parent\"><img src=\"https://colab.research.google.com/assets/colab-badge.svg\" alt=\"Open In Colab\"/></a>"
      ]
    },
    {
      "cell_type": "code",
      "execution_count": null,
      "metadata": {
        "id": "M8QfSsNuDeqy"
      },
      "outputs": [],
      "source": [
        "import os\n",
        "import cv2\n",
        "import numpy as np\n",
        "import matplotlib.pyplot as plt\n",
        "\n",
        "from zipfile import ZipFile\n",
        "from IPython.display import Image\n",
        "\n",
        "%matplotlib inline"
      ]
    },
    {
      "cell_type": "code",
      "source": [
        "print(f\"Descargando y extrayendo imagenes....\", end=\"\")\n",
        "os.system('wget https://karedit.com.mx/wp-content/uploads/images.zip')\n",
        "try:\n",
        "    with ZipFile(\"images.zip\") as z:\n",
        "        z.extractall(\".\")\n",
        "    print(\"Done\")\n",
        "except Exception as e:\n",
        "    print(\"\\nArchivo no valido.\", e)"
      ],
      "metadata": {
        "id": "3S-M1dg1DkTG"
      },
      "execution_count": null,
      "outputs": []
    },
    {
      "cell_type": "code",
      "source": [
        "# mostrando de imagen  18x18 pixeles.\n",
        "Image(filename=\"board_18x18.jpg\")"
      ],
      "metadata": {
        "id": "jEfRWK9-DtTr"
      },
      "execution_count": null,
      "outputs": []
    },
    {
      "cell_type": "code",
      "source": [
        "# Mostrando de imagen  100x100 pixeles.\n",
        "Image(filename=\"board_100x100.jpg\")"
      ],
      "metadata": {
        "id": "I3lMQY33DxIc"
      },
      "execution_count": null,
      "outputs": []
    },
    {
      "cell_type": "code",
      "source": [
        "# Leer imagen en escala de grises.\n",
        "cb_img = cv2.imread(\"board_18x18.jpg\", 0)\n",
        "\n",
        "# Imprime la infromacion de la imagen (valro de cada pixel), como elementos de un array numpy.\n",
        "# cada pixel tiene un valor de 8-bits [0,255]\n",
        "print(cb_img)"
      ],
      "metadata": {
        "id": "SIwmsP3eD0og"
      },
      "execution_count": null,
      "outputs": []
    },
    {
      "cell_type": "code",
      "source": [
        "# imprimir el tamaño de la imagen\n",
        "print(\"Las medidas de la Imagen (Alto, Ancho) es:\", cb_img.shape)\n",
        "\n",
        "# print data-type of image\n",
        "print(\"El tipo de imagen es:\", cb_img.dtype)"
      ],
      "metadata": {
        "id": "J_7GebDuD3gp"
      },
      "execution_count": null,
      "outputs": []
    },
    {
      "cell_type": "code",
      "source": [
        "# Mostrando imagen.\n",
        "plt.imshow(cb_img)"
      ],
      "metadata": {
        "id": "asE5bo7iD4pS"
      },
      "execution_count": null,
      "outputs": []
    },
    {
      "cell_type": "code",
      "source": [
        "# establecer el mapa de colores a escala de grises.\n",
        "plt.imshow(cb_img, cmap=\"gray\")"
      ],
      "metadata": {
        "id": "6bFjDrzyD_zy"
      },
      "execution_count": null,
      "outputs": []
    },
    {
      "cell_type": "code",
      "source": [
        "# Leer y mostrar una imagen a color.\n",
        "Image(\"logo.jpg\")"
      ],
      "metadata": {
        "id": "lUC5y3m8EMGh"
      },
      "execution_count": null,
      "outputs": []
    },
    {
      "cell_type": "code",
      "source": [
        "# Leer imagen\n",
        "logo_img = cv2.imread(\"logo.jpg\", 1)\n",
        "\n",
        "# imprimir el tamaño de la imagen\n",
        "print(\"Image size (H, W, C) is:\", logo_img.shape)\n",
        "\n",
        "# imprimir la informacion de la imagen\n",
        "print(\"Data type of image is:\", logo_img.dtype)"
      ],
      "metadata": {
        "id": "LrlGaOFrEN37"
      },
      "execution_count": null,
      "outputs": []
    },
    {
      "cell_type": "code",
      "source": [
        "plt.imshow(logo_img)\n",
        "#  mostrar la imagen"
      ],
      "metadata": {
        "id": "KmXcmqqHEUmp"
      },
      "execution_count": null,
      "outputs": []
    },
    {
      "cell_type": "code",
      "source": [
        "logo_img_channels_reversed = logo_img[:, :, ::-1]\n",
        "plt.imshow(logo_img_channels_reversed)"
      ],
      "metadata": {
        "id": "ifQdv3vUEZxT"
      },
      "execution_count": null,
      "outputs": []
    },
    {
      "cell_type": "code",
      "source": [
        "#dividimos la imagen en cada uno de los componentes RGB\n",
        "img_computer_bgr = cv2.imread(\"computer.jpg\", cv2.IMREAD_COLOR)\n",
        "b, g, r = cv2.split(img_computer_bgr)\n",
        "\n",
        "# mostramos los canales\n",
        "plt.figure(figsize=[20, 5])\n",
        "\n",
        "plt.subplot(141);plt.imshow(r, cmap=\"gray\");plt.title(\"Red Channel\")\n",
        "plt.subplot(142);plt.imshow(g, cmap=\"gray\");plt.title(\"Green Channel\")\n",
        "plt.subplot(143);plt.imshow(b, cmap=\"gray\");plt.title(\"Blue Channel\")\n",
        "\n",
        "# mezclamos los canales individuales en una sola imagen BGR\n",
        "imgMerged = cv2.merge((b, g, r))\n",
        "# mostramos el resultado\n",
        "plt.subplot(144)\n",
        "plt.imshow(imgMerged[:, :, ::-1])\n",
        "plt.title(\"Merged Output\")"
      ],
      "metadata": {
        "id": "GFrRocEeEebr"
      },
      "execution_count": null,
      "outputs": []
    },
    {
      "cell_type": "code",
      "source": [
        "# OpenCV almacena los canales de color en un orden diferente al de la mayoría de las aplicaciones (BGR vs RGB).\n",
        "img_computer_rgb = cv2.cvtColor(img_computer_bgr, cv2.COLOR_BGR2RGB)\n",
        "plt.imshow(img_computer_rgb)"
      ],
      "metadata": {
        "id": "BKzCM1bLEgyM"
      },
      "execution_count": null,
      "outputs": []
    },
    {
      "cell_type": "code",
      "source": [
        "img_hsv = cv2.cvtColor(img_computer_bgr, cv2.COLOR_BGR2HSV)\n",
        "\n",
        "# Dividir la imagen en los componentes B,G,R\n",
        "h,s,v = cv2.split(img_hsv)\n",
        "\n",
        "# Mostrar los canales\n",
        "plt.figure(figsize=[20,5])\n",
        "plt.subplot(141);plt.imshow(h, cmap=\"gray\");plt.title(\"H Channel\");\n",
        "plt.subplot(142);plt.imshow(s, cmap=\"gray\");plt.title(\"S Channel\");\n",
        "plt.subplot(143);plt.imshow(v, cmap=\"gray\");plt.title(\"V Channel\");\n",
        "plt.subplot(144);plt.imshow(img_computer_rgb);   plt.title(\"Original\");"
      ],
      "metadata": {
        "id": "OAFfbchvFzPb"
      },
      "execution_count": null,
      "outputs": []
    },
    {
      "cell_type": "code",
      "source": [
        "h_new = h + 10\n",
        "img_computer_merged = cv2.merge((h_new, s, v))\n",
        "img_computer_rgb = cv2.cvtColor(img_computer_merged, cv2.COLOR_HSV2RGB)\n",
        "\n",
        "# Mostrar los canales\n",
        "plt.figure(figsize=[20,5])\n",
        "plt.subplot(141);plt.imshow(h, cmap=\"gray\");plt.title(\"H Channel\");\n",
        "plt.subplot(142);plt.imshow(s, cmap=\"gray\");plt.title(\"S Channel\");\n",
        "plt.subplot(143);plt.imshow(v, cmap=\"gray\");plt.title(\"V Channel\");\n",
        "plt.subplot(144);plt.imshow(img_computer_rgb);   plt.title(\"Original\");"
      ],
      "metadata": {
        "id": "R2Lx6lv0F3G7"
      },
      "execution_count": null,
      "outputs": []
    },
    {
      "cell_type": "code",
      "source": [
        "# guardar la imagen\n",
        "cv2.imwrite(\"New_computer_SAVED.png\", img_computer_bgr)\n",
        "\n",
        "Image(filename='New_computer_SAVED.png')"
      ],
      "metadata": {
        "id": "xEfEHktxF6_8"
      },
      "execution_count": null,
      "outputs": []
    },
    {
      "cell_type": "code",
      "source": [
        "# leer la imagen como Color\n",
        "img_computer_bgr = cv2.imread(\"New_computer_SAVED.png\", cv2.IMREAD_COLOR)\n",
        "print(\"img_computer_bgr shape (H, W, C) is:\", img_computer_bgr.shape)\n",
        "\n",
        "#  leer la imagen en escala de grises\n",
        "img_computer_gry = cv2.imread(\"New_computer_SAVED.png\", cv2.IMREAD_GRAYSCALE)\n",
        "print(\"img_computer_gry shape (H, W) is:\", img_computer_gry.shape)"
      ],
      "metadata": {
        "id": "_m0HfuIEF-Fd"
      },
      "execution_count": null,
      "outputs": []
    }
  ]
}