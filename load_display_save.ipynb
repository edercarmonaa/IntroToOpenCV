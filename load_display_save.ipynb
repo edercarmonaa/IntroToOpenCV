{
  "cells": [
    {
      "cell_type": "markdown",
      "metadata": {
        "id": "view-in-github",
        "colab_type": "text"
      },
      "source": [
        "<a href=\"https://colab.research.google.com/github/edercarmonaa/IntroToOpenCV/blob/main/load_display_save.ipynb\" target=\"_parent\"><img src=\"https://colab.research.google.com/assets/colab-badge.svg\" alt=\"Open In Colab\"/></a>"
      ]
    },
    {
      "cell_type": "markdown",
      "source": [
        "# Ejemplo 1\n",
        "\n",
        "* La primer parte de este ejemplo se accesa a una imagen local, se muestra en \n",
        "pantalla y posteriormente se guarda con ottro nombre y extension diferente.\n",
        "* La segunda parte, realiza la misma actividad pero accesando a una imagen a traves de una URL, para guardar posteriormente una copia local."
      ],
      "metadata": {
        "id": "OsfHstpo5Wij"
      }
    },
    {
      "cell_type": "code",
      "source": [
        ""
      ],
      "metadata": {
        "id": "lj6XOFiSgIhT"
      },
      "execution_count": null,
      "outputs": []
    },
    {
      "cell_type": "code",
      "execution_count": null,
      "metadata": {
        "id": "3QYoDdPV2Gn5"
      },
      "outputs": [],
      "source": [
        "\"\"\" importando librerias \"\"\"\n",
        "from __future__ import print_function\n",
        "from matplotlib import pyplot as plt\n",
        "from urllib import request\n",
        "import numpy as np\n",
        "import cv2"
      ]
    },
    {
      "cell_type": "markdown",
      "source": [
        "\n",
        " \n",
        "Lo primero que haremos es importar los paquetes ncesarios para la ejecucion de este ejemplo:\n",
        "\n",
        "\n",
        "*   **print_function from the __future__ package**: Utilizaremos la función función print() en lugar de la sentencia print para que para que nuestro código funcione tanto con Python 2.7 como con Python 3\n",
        "*   **matplotlib**: En pocas palabras es una biblioteca de trazado, para este ejemplo nos permite visualizar la imagen en pantalla\n",
        "*   **cv2**: es nuestra biblioteca OpenCV y contiene nuestras funciones de procesamiento de imágenes.\n",
        "* **urllib.request** es un módulo Python para acceder y utilizar recursos de internet identificados por URLs (Uniform Resource Locators).\n",
        "* **numpy** es una librería que proporciona una variedad de rutinas para realizar operaciones rápidas con arrays\n",
        "\n",
        "\n"
      ],
      "metadata": {
        "id": "QANUCiQs7Bwl"
      }
    },
    {
      "cell_type": "code",
      "execution_count": null,
      "metadata": {
        "id": "soqSCbGG2Gn8"
      },
      "outputs": [],
      "source": [
        "\"\"\" 1a PARTE \"\"\"\n",
        "image = cv2.imread(\"TyrannosaurusRex.jpg\")\n",
        "print(\"width: {} pixels\".format(image.shape[1]))\n",
        "print(\"height: {} pixels\".format(image.shape[0]))\n",
        "print(\"channels: {}\".format(image.shape[2]))\n",
        "\n",
        "plt.axis(\"off\")\n",
        "plt.imshow(image)\n",
        "plt.show()\n",
        "cv2.imwrite(\"newimage.png\", image)"
      ]
    },
    {
      "cell_type": "code",
      "execution_count": null,
      "metadata": {
        "id": "qKZld3qk2Gn-"
      },
      "outputs": [],
      "source": [
        "req = urllib.request.urlopen(\"https://pyimagesearch.com/wp-content/uploads/2015/01/opencv_logo.png\")\n",
        "arr = np.asarray(bytearray(req.read()), dtype=np.uint8)\n",
        "image = cv2.imdecode(arr, -1)\n",
        "print(\"width: {} pixels\".format(image.shape[1]))\n",
        "print(\"height: {} pixels\".format(image.shape[0]))\n",
        "print(\"channels: {}\".format(image.shape[2]))\n",
        "\n",
        "plt.axis(\"off\")\n",
        "plt.imshow(image)\n",
        "plt.show()\n",
        "cv2.imwrite(\"newimage2.jpg\", image)"
      ]
    }
  ],
  "metadata": {
    "kernelspec": {
      "display_name": "Python 3.9.12 ('base')",
      "language": "python",
      "name": "python3"
    },
    "language_info": {
      "codemirror_mode": {
        "name": "ipython",
        "version": 3
      },
      "file_extension": ".py",
      "mimetype": "text/x-python",
      "name": "python",
      "nbconvert_exporter": "python",
      "pygments_lexer": "ipython3",
      "version": "3.9.12"
    },
    "orig_nbformat": 4,
    "vscode": {
      "interpreter": {
        "hash": "6ceef8493535515639acf066bfb1a2b4271e7f3e2787bda7c069c0e62b8dd810"
      }
    },
    "colab": {
      "name": "load_display_save.ipynb",
      "private_outputs": true,
      "provenance": [],
      "collapsed_sections": [],
      "include_colab_link": true
    },
    "gpuClass": "standard"
  },
  "nbformat": 4,
  "nbformat_minor": 0
}