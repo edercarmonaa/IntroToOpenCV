{
  "nbformat": 4,
  "nbformat_minor": 0,
  "metadata": {
    "colab": {
      "name": "Untitled0.ipynb",
      "private_outputs": true,
      "provenance": [],
      "authorship_tag": "ABX9TyMaHLv2FVw/Q0C+aQl9ZqtJ",
      "include_colab_link": true
    },
    "kernelspec": {
      "name": "python3",
      "display_name": "Python 3"
    },
    "language_info": {
      "name": "python"
    }
  },
  "cells": [
    {
      "cell_type": "markdown",
      "metadata": {
        "id": "view-in-github",
        "colab_type": "text"
      },
      "source": [
        "<a href=\"https://colab.research.google.com/github/edercarmonaa/IntroToOpenCV/blob/main/flipping.ipynb\" target=\"_parent\"><img src=\"https://colab.research.google.com/assets/colab-badge.svg\" alt=\"Open In Colab\"/></a>"
      ]
    },
    {
      "cell_type": "code",
      "execution_count": null,
      "metadata": {
        "id": "4puEL4jSboTM"
      },
      "outputs": [],
      "source": [
        "import cv2\n",
        "from __future__ import print_function\n",
        "from google.colab.patches import cv2_imshow\n",
        "\n",
        "\n",
        "image = cv2.imread(\"TyrannosaurusRex.jpg\")\n",
        "print(\"Original\")\n",
        "cv2_imshow(image)\n",
        "\n"
      ]
    },
    {
      "cell_type": "code",
      "source": [
        "flipped = cv2.flip(image, 1)\n",
        "print(\"Flipped Horizontally\")\n",
        "cv2_imshow(flipped)"
      ],
      "metadata": {
        "id": "awBxBoJIcDJH"
      },
      "execution_count": null,
      "outputs": []
    },
    {
      "cell_type": "code",
      "source": [
        "flipped = cv2.flip(image, 0)\n",
        "print(\"Flipped Vertically\")\n",
        "cv2_imshow(flipped)"
      ],
      "metadata": {
        "id": "CK3yI7e6cE8y"
      },
      "execution_count": null,
      "outputs": []
    },
    {
      "cell_type": "code",
      "source": [
        "flipped = cv2.flip(image, -1)\n",
        "print(\"Flipped Horizontally & Vertically\")\n",
        "cv2_imshow(flipped)"
      ],
      "metadata": {
        "id": "Y1MMzahQcQnf"
      },
      "execution_count": null,
      "outputs": []
    },
    {
      "cell_type": "code",
      "source": [
        ""
      ],
      "metadata": {
        "id": "HTv92_oUcXxA"
      },
      "execution_count": null,
      "outputs": []
    }
  ]
}