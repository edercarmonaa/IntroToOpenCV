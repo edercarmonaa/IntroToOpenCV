{
  "nbformat": 4,
  "nbformat_minor": 0,
  "metadata": {
    "colab": {
      "name": "Untitled1.ipynb",
      "private_outputs": true,
      "provenance": [],
      "authorship_tag": "ABX9TyO2fOB+OzIETv6BkJT1SpbC",
      "include_colab_link": true
    },
    "kernelspec": {
      "name": "python3",
      "display_name": "Python 3"
    },
    "language_info": {
      "name": "python"
    }
  },
  "cells": [
    {
      "cell_type": "markdown",
      "metadata": {
        "id": "view-in-github",
        "colab_type": "text"
      },
      "source": [
        "<a href=\"https://colab.research.google.com/github/edercarmonaa/IntroToOpenCV/blob/main/translation.ipynb\" target=\"_parent\"><img src=\"https://colab.research.google.com/assets/colab-badge.svg\" alt=\"Open In Colab\"/></a>"
      ]
    },
    {
      "cell_type": "code",
      "execution_count": null,
      "metadata": {
        "id": "pnkZ6ogrXT33"
      },
      "outputs": [],
      "source": [
        "from __future__ import print_function\n",
        "import numpy as np\n",
        "from matplotlib import pyplot as plt\n",
        "import imutils\n",
        "import cv2\n",
        "\n",
        "image = cv2.imread(\"TyrannosaurusRex.jpg\")\n",
        "print(\"Original\")\n",
        "plt.axis(\"off\")\n",
        "plt.imshow(image)\n",
        "plt.show()\n",
        "\n",
        "M = np.float32([[1, 0, 25], [0, 1, 50]])\n",
        "shifted = cv2.warpAffine(image, M, (image.shape[1], image.shape[0]))\n",
        "print(\"Shifted Down and Right\")\n",
        "plt.axis(\"off\")\n",
        "plt.imshow(shifted)\n",
        "plt.show()\n",
        "\n",
        "M = np.float32([[1, 0, -50], [0, 1, -90]])\n",
        "shifted = cv2.warpAffine(image, M, (image.shape[1], image.shape[0]))\n",
        "print(\"Shifted Up and Left\")\n",
        "plt.axis(\"off\")\n",
        "plt.imshow(shifted)\n",
        "plt.show()\n"
      ]
    },
    {
      "cell_type": "code",
      "source": [
        "def translate(image, x, y):\n",
        "  M = np.float32([[1, 0, x], [0, 1, y]])\n",
        "  shifted = cv2.warpAffine(image, M, (image.shape[1], image.shape[0]))\n",
        "  return shifted"
      ],
      "metadata": {
        "id": "e1ezxOFjYn-e"
      },
      "execution_count": null,
      "outputs": []
    },
    {
      "cell_type": "code",
      "source": [
        "shifted = imutils.translate(image, 0, 100)\n",
        "print(\"Shifted Down\")\n",
        "plt.axis(\"off\")\n",
        "plt.imshow(shifted)\n",
        "plt.show()"
      ],
      "metadata": {
        "id": "dO8hyBG8YvCq"
      },
      "execution_count": null,
      "outputs": []
    }
  ]
}