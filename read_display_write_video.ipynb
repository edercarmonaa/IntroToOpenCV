{
  "nbformat": 4,
  "nbformat_minor": 0,
  "metadata": {
    "colab": {
      "name": "Untitled1.ipynb",
      "private_outputs": true,
      "provenance": [],
      "authorship_tag": "ABX9TyMbRgvDV4rTvXueqLxriqZU",
      "include_colab_link": true
    },
    "kernelspec": {
      "name": "python3",
      "display_name": "Python 3"
    },
    "language_info": {
      "name": "python"
    }
  },
  "cells": [
    {
      "cell_type": "markdown",
      "metadata": {
        "id": "view-in-github",
        "colab_type": "text"
      },
      "source": [
        "<a href=\"https://colab.research.google.com/github/edercarmonaa/IntroToOpenCV/blob/main/read_display_write_video.ipynb\" target=\"_parent\"><img src=\"https://colab.research.google.com/assets/colab-badge.svg\" alt=\"Open In Colab\"/></a>"
      ]
    },
    {
      "cell_type": "code",
      "execution_count": null,
      "metadata": {
        "id": "Xjh5ZAQZFZNl"
      },
      "outputs": [],
      "source": [
        "from google.colab.patches import cv2_imshow\n",
        "from IPython.display import clear_output, Image\n",
        "import time\n",
        "import cv2\n",
        "\n",
        "\n",
        "vid_capture = cv2.VideoCapture('SampleVideo_1280x720_1mb.mp4')\n",
        "\n",
        "if (vid_capture.isOpened() == False):\n",
        "  print(\"Error opening the video file\")\n",
        "\n",
        "else:\n",
        "  fps = vid_capture.get(5)\n",
        "  print('Frames per second : ', fps,'FPS')\n",
        "  frame_count = vid_capture.get(7)\n",
        "  print('Frame count : ', frame_count)\n",
        "\n",
        "while(vid_capture.isOpened()):\n",
        "  ret, frame = vid_capture.read()\n",
        "  if ret == True:\n",
        "    clear_output(wait=True)\n",
        "    cv2_imshow(frame)\n",
        "    time.sleep(0.1)\n",
        "    key = cv2.waitKey(20)\n",
        "    if key == ord('q'):\n",
        "      break\n",
        "  else:\n",
        "    break\n",
        "\n",
        "vid_capture.release()\n",
        "cv2.destroyAllWindows()"
      ]
    }
  ]
}