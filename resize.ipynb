{
  "nbformat": 4,
  "nbformat_minor": 0,
  "metadata": {
    "colab": {
      "name": "Untitled1.ipynb",
      "private_outputs": true,
      "provenance": [],
      "authorship_tag": "ABX9TyPMUXDCXocxvv1oXesrsS//",
      "include_colab_link": true
    },
    "kernelspec": {
      "name": "python3",
      "display_name": "Python 3"
    },
    "language_info": {
      "name": "python"
    }
  },
  "cells": [
    {
      "cell_type": "markdown",
      "metadata": {
        "id": "view-in-github",
        "colab_type": "text"
      },
      "source": [
        "<a href=\"https://colab.research.google.com/github/edercarmonaa/IntroToOpenCV/blob/main/resize.ipynb\" target=\"_parent\"><img src=\"https://colab.research.google.com/assets/colab-badge.svg\" alt=\"Open In Colab\"/></a>"
      ]
    },
    {
      "cell_type": "code",
      "execution_count": null,
      "metadata": {
        "id": "9h3Z9AYmJZjf"
      },
      "outputs": [],
      "source": [
        "from __future__ import print_function\n",
        "import numpy as np\n",
        "import imutils\n",
        "import cv2\n",
        "from google.colab.patches import cv2_imshow\n",
        "\n",
        "image = cv2.imread(\"TyrannosaurusRex.jpg\")\n",
        "print(\"Original\")\n",
        "cv2_imshow(image)"
      ]
    },
    {
      "cell_type": "code",
      "source": [
        "r = 150.0 / image.shape[1]\n",
        "dim = (150, int(image.shape[0] * r))\n",
        "\n",
        "resized = cv2.resize(image, dim, interpolation = cv2.INTER_AREA)\n",
        "print(\"Resized (Width)\")\n",
        "cv2_imshow(resized)"
      ],
      "metadata": {
        "id": "wyemc8sHKKJ5"
      },
      "execution_count": null,
      "outputs": []
    },
    {
      "cell_type": "code",
      "source": [
        "r = 50.0 / image.shape[0]\n",
        "dim = (int(image.shape[1] * r), 50)\n",
        "\n",
        "resized = cv2.resize(image, dim, interpolation = cv2.INTER_AREA)\n",
        "print(\"Resized (Height)\")\n",
        "cv2_imshow(resized)"
      ],
      "metadata": {
        "id": "_BB0LF35KK6y"
      },
      "execution_count": null,
      "outputs": []
    },
    {
      "cell_type": "code",
      "source": [
        "def resize(image, width = None, height = None, inter = cv2.INTER_AREA):\n",
        "  dim = None\n",
        "  (h, w) = image.shape[:2]\n",
        "  if width is None and height is None:\n",
        "    return image\n",
        "  if width is None:\n",
        "    r = height / float(h)\n",
        "    dim = (int(w * r), height)\n",
        "  else:\n",
        "    r = width / float(w)\n",
        "    dim = (width, int(h * r))\n",
        "  resized = cv2.resize(image, dim, interpolation = inter)\n",
        "  return resized"
      ],
      "metadata": {
        "id": "IZGonHYvYGW5"
      },
      "execution_count": null,
      "outputs": []
    },
    {
      "cell_type": "code",
      "source": [
        "resized = resize(image, width = 100)\n",
        "print(\"Resized (Height)\")\n",
        "cv2_imshow(resized)"
      ],
      "metadata": {
        "id": "VT0rf7raYZ3j"
      },
      "execution_count": null,
      "outputs": []
    }
  ]
}