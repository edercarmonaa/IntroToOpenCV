{
  "nbformat": 4,
  "nbformat_minor": 0,
  "metadata": {
    "colab": {
      "name": "Untitled0.ipynb",
      "private_outputs": true,
      "provenance": [],
      "authorship_tag": "ABX9TyOY73IrncEuTyNs1TZ3gSVC",
      "include_colab_link": true
    },
    "kernelspec": {
      "name": "python3",
      "display_name": "Python 3"
    },
    "language_info": {
      "name": "python"
    }
  },
  "cells": [
    {
      "cell_type": "markdown",
      "metadata": {
        "id": "view-in-github",
        "colab_type": "text"
      },
      "source": [
        "<a href=\"https://colab.research.google.com/github/edercarmonaa/IntroToOpenCV/blob/main/rotate.ipynb\" target=\"_parent\"><img src=\"https://colab.research.google.com/assets/colab-badge.svg\" alt=\"Open In Colab\"/></a>"
      ]
    },
    {
      "cell_type": "code",
      "execution_count": null,
      "metadata": {
        "id": "VhBn165DG5xC"
      },
      "outputs": [],
      "source": [
        "from __future__ import print_function\n",
        "import numpy as np\n",
        "import argparse\n",
        "import imutils\n",
        "import cv2\n",
        "from google.colab.patches import cv2_imshow\n",
        "\n",
        "image = cv2.imread(\"TyrannosaurusRex.jpg\")\n",
        "print(\"Original\")\n",
        "cv2_imshow(image)\n"
      ]
    },
    {
      "cell_type": "code",
      "source": [
        "(h, w) = image.shape[:2]\n",
        "center = (w // 2, h // 2)"
      ],
      "metadata": {
        "id": "spi6t0f5IJj5"
      },
      "execution_count": null,
      "outputs": []
    },
    {
      "cell_type": "code",
      "source": [
        "\n",
        "\n",
        "M = cv2.getRotationMatrix2D(center, 45, 1.0)\n",
        "rotated = cv2.warpAffine(image, M, (w, h))\n",
        "print(\"Rotated by 45 Degrees\")\n",
        "cv2_imshow(rotated)"
      ],
      "metadata": {
        "id": "WjJ0EefJH_xT"
      },
      "execution_count": null,
      "outputs": []
    },
    {
      "cell_type": "code",
      "source": [
        "M = cv2.getRotationMatrix2D(center, -90, 1.0)\n",
        "rotated = cv2.warpAffine(image, M, (w, h))\n",
        "print(\"Rotated by -90 Degrees\")\n",
        "cv2_imshow(rotated)"
      ],
      "metadata": {
        "id": "Rkf179z0IGBp"
      },
      "execution_count": null,
      "outputs": []
    },
    {
      "cell_type": "code",
      "source": [
        "def rotate(image, angle, center = None, scale = 1.0):\n",
        "  (h, w) = image.shape[:2]\n",
        "  if center is None:\n",
        "    center = (w // 2, h // 2)\n",
        "\n",
        "  M = cv2.getRotationMatrix2D(center, angle, scale)\n",
        "  rotated = cv2.warpAffine(image, M, (w, h))\n",
        "  return rotated"
      ],
      "metadata": {
        "id": "ogBhfXyOIQZK"
      },
      "execution_count": null,
      "outputs": []
    },
    {
      "cell_type": "code",
      "source": [
        "rotated = imutils.rotate(image, 180)\n",
        "cv2_imshow(rotated)\n",
        "print(\"Rotated by 180 Degrees\")\n",
        "cv2.waitKey(0)"
      ],
      "metadata": {
        "id": "znbMBKVdIW9q"
      },
      "execution_count": null,
      "outputs": []
    }
  ]
}